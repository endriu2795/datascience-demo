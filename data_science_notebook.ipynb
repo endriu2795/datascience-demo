{
  "nbformat": 4,
  "nbformat_minor": 0,
  "metadata": {
    "colab": {
      "provenance": [],
      "authorship_tag": "ABX9TyNdC2Vc/9bvHL3tMJAU4EaR",
      "include_colab_link": true
    },
    "kernelspec": {
      "name": "python3",
      "display_name": "Python 3"
    },
    "language_info": {
      "name": "python"
    }
  },
  "cells": [
    {
      "cell_type": "markdown",
      "metadata": {
        "id": "view-in-github",
        "colab_type": "text"
      },
      "source": [
        "<a href=\"https://colab.research.google.com/github/endriu2795/datascience-demo/blob/main/data_science_notebook.ipynb\" target=\"_parent\"><img src=\"https://colab.research.google.com/assets/colab-badge.svg\" alt=\"Open In Colab\"/></a>"
      ]
    },
    {
      "cell_type": "markdown",
      "source": [
        "##Ingest"
      ],
      "metadata": {
        "id": "krb8OV5ufeRS"
      }
    },
    {
      "cell_type": "code",
      "source": [],
      "metadata": {
        "id": "sgEUgI4lfgvo"
      },
      "execution_count": null,
      "outputs": []
    },
    {
      "cell_type": "markdown",
      "source": [
        "##EDA"
      ],
      "metadata": {
        "id": "vd5WhF_0fkKo"
      }
    },
    {
      "cell_type": "code",
      "source": [],
      "metadata": {
        "id": "SEBfyMDAfm0-"
      },
      "execution_count": null,
      "outputs": []
    },
    {
      "cell_type": "markdown",
      "source": [
        "## Modeling"
      ],
      "metadata": {
        "id": "oZ3tP1zEfnZg"
      }
    },
    {
      "cell_type": "markdown",
      "source": [
        "### Classification Algorithm A"
      ],
      "metadata": {
        "id": "pluToQbDfyPY"
      }
    },
    {
      "cell_type": "code",
      "source": [],
      "metadata": {
        "id": "cRROGtGPfnii"
      },
      "execution_count": null,
      "outputs": []
    },
    {
      "cell_type": "markdown",
      "source": [
        "##Conclusion"
      ],
      "metadata": {
        "id": "Fy6k8D73fnti"
      }
    },
    {
      "cell_type": "code",
      "source": [],
      "metadata": {
        "id": "A41AN6aOfnzk"
      },
      "execution_count": null,
      "outputs": []
    }
  ]
}